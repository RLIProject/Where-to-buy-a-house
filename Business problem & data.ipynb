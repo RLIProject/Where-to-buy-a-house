{
    "nbformat_minor": 1, 
    "cells": [
        {
            "source": "# Where to buy a house in Scarborough, Toronto", 
            "cell_type": "markdown", 
            "metadata": {
                "collapsed": true
            }
        }, 
        {
            "source": "### Gloria  15-04-2019\n", 
            "cell_type": "markdown", 
            "metadata": {}
        }, 
        {
            "source": "## 1.\tBackground\n\nMy family are considering to move to Toronto next year. After consulting several friends,  we have decided to choose Scarborough suburb because Scarborough is a popular destination for new immigrants in Canada to reside. As a result, it is one of the most diverse and multicultural areas in the Greater Toronto Area, being home to various religious groups and places of worship. It includes some of Toronto's popular natural landmarks, such as the Toronto Zoo and Rouge Park. The northeast corner of Scarborough is largely rural with some of Toronto\u2019s last remaining farms, leading to Scarborough\u2019s reputation of being greener than any other part of Toronto. \n\n", 
            "cell_type": "markdown", 
            "metadata": {}
        }, 
        {
            "source": "## 2.\tIntroduction/Business Problem\n\nThere are more than 30 neighbourhoods in Scarborough. Which area is the perfect location to reside? I have 2 kids, one is 6 years old, the other is 4.  So If there is a park or playground, it will be perfect. I also do not like nosiy shopping area. We also look for the property where there are some restaurants or grocery stores nearby. \nI have to do a deep analysis on Scarborough's neighborhoods, compare them by using Foursquare data to find what venues are near each location, also, I need to use some advanced modeling techniques to indentify different types of neighborhoods, making it easier to decide where we would like to buy a house. ", 
            "cell_type": "markdown", 
            "metadata": {}
        }, 
        {
            "source": "## 3. Data\nBy performing web scrapping techniques, I will import Postal Codes of Toronto (including postcode, borough, neighborhood), which is a free resource on table format on Wikipedia().  I also merge the location data with postal code table. \nTo explore the neighbourhood, I will use Foursquare API, where I can extract the following fields: Venue Name, Venue Category, Venue Location. It will be important to understand and visualize Scarborough\u2019s features. ", 
            "cell_type": "markdown", 
            "attachments": {}, 
            "metadata": {}
        }, 
        {
            "source": "", 
            "cell_type": "code", 
            "metadata": {}, 
            "outputs": [], 
            "execution_count": null
        }
    ], 
    "metadata": {
        "kernelspec": {
            "display_name": "Python 3.5", 
            "name": "python3", 
            "language": "python"
        }, 
        "language_info": {
            "mimetype": "text/x-python", 
            "nbconvert_exporter": "python", 
            "version": "3.5.5", 
            "name": "python", 
            "file_extension": ".py", 
            "pygments_lexer": "ipython3", 
            "codemirror_mode": {
                "version": 3, 
                "name": "ipython"
            }
        }
    }, 
    "nbformat": 4
}